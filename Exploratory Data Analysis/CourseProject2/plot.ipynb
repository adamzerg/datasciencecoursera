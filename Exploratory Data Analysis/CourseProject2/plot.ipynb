{
 "cells": [
  {
   "cell_type": "code",
   "execution_count": 1,
   "source": [
    "library(dplyr)\r\n",
    "library(ggplot2)\r\n",
    "library(gridExtra)"
   ],
   "outputs": [
    {
     "output_type": "stream",
     "name": "stderr",
     "text": [
      "\n",
      "Attaching package: 'dplyr'\n",
      "\n",
      "The following objects are masked from 'package:stats':\n",
      "\n",
      "    filter, lag\n",
      "\n",
      "The following objects are masked from 'package:base':\n",
      "\n",
      "    intersect, setdiff, setequal, union\n",
      "\n",
      "Registered S3 methods overwritten by 'ggplot2':\n",
      "  method         from \n",
      "  [.quosures     rlang\n",
      "  c.quosures     rlang\n",
      "  print.quosures rlang\n",
      "Warning message:\n",
      "\"package 'gridExtra' was built under R version 3.6.3\"\n",
      "Attaching package: 'gridExtra'\n",
      "\n",
      "The following object is masked from 'package:dplyr':\n",
      "\n",
      "    combine\n",
      "\n"
     ]
    }
   ],
   "metadata": {}
  },
  {
   "cell_type": "markdown",
   "source": [
    "# Download source data"
   ],
   "metadata": {}
  },
  {
   "cell_type": "code",
   "execution_count": null,
   "source": [
    "download.file('https://d396qusza40orc.cloudfront.net/exdata%2Fdata%2FNEI_data.zip'\r\n",
    "              , 'exdata.zip'\r\n",
    "              , method='curl' )\r\n",
    "unzip(\"exdata.zip\", files = NULL, exdir=\".\")"
   ],
   "outputs": [],
   "metadata": {}
  },
  {
   "cell_type": "markdown",
   "source": [
    "# Load Data"
   ],
   "metadata": {}
  },
  {
   "cell_type": "code",
   "execution_count": 5,
   "source": [
    "NEI <- readRDS(\"summarySCC_PM25.rds\")"
   ],
   "outputs": [],
   "metadata": {}
  },
  {
   "cell_type": "markdown",
   "source": [
    "# Explore data set"
   ],
   "metadata": {}
  },
  {
   "cell_type": "code",
   "execution_count": 3,
   "source": [
    "summary(NEI)\r\n",
    "#head(NEI)"
   ],
   "outputs": [
    {
     "output_type": "display_data",
     "data": {
      "text/plain": [
       "     fips               SCC             Pollutant           Emissions       \n",
       " Length:6497651     Length:6497651     Length:6497651     Min.   :     0.0  \n",
       " Class :character   Class :character   Class :character   1st Qu.:     0.0  \n",
       " Mode  :character   Mode  :character   Mode  :character   Median :     0.0  \n",
       "                                                          Mean   :     3.4  \n",
       "                                                          3rd Qu.:     0.1  \n",
       "                                                          Max.   :646952.0  \n",
       "     type                year     \n",
       " Length:6497651     Min.   :1999  \n",
       " Class :character   1st Qu.:2002  \n",
       " Mode  :character   Median :2005  \n",
       "                    Mean   :2004  \n",
       "                    3rd Qu.:2008  \n",
       "                    Max.   :2008  "
      ]
     },
     "metadata": {}
    }
   ],
   "metadata": {}
  },
  {
   "cell_type": "markdown",
   "source": [
    "# Aggregate data set by year"
   ],
   "metadata": {}
  },
  {
   "cell_type": "code",
   "execution_count": 4,
   "source": [
    "x <- NEI %>% \r\n",
    "      group_by(year) %>% \r\n",
    "      summarise(sum = sum(Emissions, na.rm = TRUE),\r\n",
    "      mean = mean(Emissions, na.rm = TRUE),\r\n",
    "      median = median(Emissions, na.rm = TRUE),\r\n",
    "      min = min(Emissions, na.rm = TRUE),\r\n",
    "      max = max(Emissions, na.rm = TRUE))\r\n",
    "y1 <- NEI$Emissions[NEI$year == 1999]\r\n",
    "y2 <- NEI$Emissions[NEI$year == 2002]\r\n",
    "y3 <- NEI$Emissions[NEI$year == 2005]\r\n",
    "y4 <- NEI$Emissions[NEI$year == 2008]"
   ],
   "outputs": [],
   "metadata": {}
  },
  {
   "cell_type": "markdown",
   "source": [
    "# PM2.5 emissions over years"
   ],
   "metadata": {}
  },
  {
   "cell_type": "code",
   "execution_count": 17,
   "source": [
    "options(repr.plot.width=10, repr.plot.height=5)\r\n",
    "par(mfrow=c(1,2))\r\n",
    "plot(x$year,x$sum/1000000,\r\n",
    "      xlab=\"Year\",\r\n",
    "      ylab=\"Total PM2.5 in megatons\",\r\n",
    "      type=\"l\")\r\n",
    "boxplot(log10(y1), log10(y2), log10(y3), log10(y4),\r\n",
    "      names=c(\"1999\",\"2002\",\"2005\",\"2008\"),\r\n",
    "      xlab=\"Year\",\r\n",
    "      ylab=\"Log10 of PM2.5\",\r\n",
    "      outline=FALSE)\r\n",
    "mtext(\"PM2.5 emissions over years\", side= 3, line=-2, outer = TRUE)"
   ],
   "outputs": [
    {
     "output_type": "display_data",
     "data": {
      "text/plain": [
       "plot without title"
      ],
      "image/png": "[encoded data removed]"
     },
     "metadata": {}
    }
   ],
   "metadata": {}
  },
  {
   "cell_type": "markdown",
   "source": [
    "# Aggregate by year (Baltimore)"
   ],
   "metadata": {}
  },
  {
   "cell_type": "code",
   "execution_count": 10,
   "source": [
    "x <- NEI[NEI$fips == \"24510\",] %>% \r\n",
    "      group_by(year) %>% \r\n",
    "      summarise(sum = sum(Emissions, na.rm = TRUE),\r\n",
    "      mean = mean(Emissions, na.rm = TRUE),\r\n",
    "      median = median(Emissions, na.rm = TRUE),\r\n",
    "      min = min(Emissions, na.rm = TRUE),\r\n",
    "      max = max(Emissions, na.rm = TRUE))\r\n",
    "y1 <- NEI$Emissions[NEI$fips == \"24510\" & NEI$year == 1999]\r\n",
    "y2 <- NEI$Emissions[NEI$fips == \"24510\" & NEI$year == 2002]\r\n",
    "y3 <- NEI$Emissions[NEI$fips == \"24510\" & NEI$year == 2005]\r\n",
    "y4 <- NEI$Emissions[NEI$fips == \"24510\" & NEI$year == 2008]"
   ],
   "outputs": [],
   "metadata": {}
  },
  {
   "cell_type": "markdown",
   "source": [
    "# PM2.5 emissions over years (Baltimore)"
   ],
   "metadata": {}
  },
  {
   "cell_type": "code",
   "execution_count": 18,
   "source": [
    "options(repr.plot.width=10, repr.plot.height=5)\r\n",
    "par(mfrow=c(1,2))\r\n",
    "plot(x$year,x$sum/1000,\r\n",
    "      xlab=\"Year\",\r\n",
    "      ylab=\"Total PM2.5 in kilotons\",\r\n",
    "      type=\"l\")\r\n",
    "boxplot(log10(y1), log10(y2), log10(y3), log10(y4),\r\n",
    "      names=c(\"1999\",\"2002\",\"2005\",\"2008\"),\r\n",
    "      xlab=\"Year\",\r\n",
    "      ylab=\"Log10 of PM2.5\",\r\n",
    "      outline=FALSE)\r\n",
    "mtext(\"PM2.5 emissions over years (Baltimore)\", side= 3, line=-2, outer = TRUE)"
   ],
   "outputs": [
    {
     "output_type": "display_data",
     "data": {
      "text/plain": [
       "plot without title"
      ],
      "image/png": "[encoded data removed]"
     },
     "metadata": {}
    }
   ],
   "metadata": {}
  },
  {
   "cell_type": "markdown",
   "source": [
    "# Aggregate by year and type (Baltimore)"
   ],
   "metadata": {}
  },
  {
   "cell_type": "code",
   "execution_count": 12,
   "source": [
    "dfa <- NEI[NEI$fips == \"24510\", ] %>% \r\n",
    "      group_by(year, type) %>%\r\n",
    "      summarise(sum = sum(Emissions, na.rm = TRUE),\r\n",
    "      mean = mean(Emissions, na.rm = TRUE),\r\n",
    "      median = median(Emissions, na.rm = TRUE),\r\n",
    "      min = min(Emissions, na.rm = TRUE),\r\n",
    "      max = max(Emissions, na.rm = TRUE),\r\n",
    "      .groups = \"drop\")"
   ],
   "outputs": [],
   "metadata": {}
  },
  {
   "cell_type": "markdown",
   "source": [
    "# PM2.5 emissions over source types (Baltimore)"
   ],
   "metadata": {}
  },
  {
   "cell_type": "code",
   "execution_count": 21,
   "source": [
    "g1 <- ggplot(dfa, aes(x = year, y = sum, color = sum)) +\r\n",
    "  geom_line() +\r\n",
    "  facet_wrap(~type, nrow = 1, ncol = 4) +\r\n",
    "  xlab(\"Source types\") + ylab(\"Total of PM2.5 emissions\")\r\n",
    "\r\n",
    "g2 <- ggplot(NEI[NEI$fips == \"24510\", ], aes(x = factor(year), y = log10(Emissions), fill = factor(year))) +\r\n",
    "  geom_boxplot(na.rm = TRUE) +\r\n",
    "  facet_wrap(~type, nrow = 1, ncol = 4) +\r\n",
    "  xlab(\"Source types\") + ylab(\"Log10 of PM2.5\")\r\n",
    "\r\n",
    "grid.arrange(g1, g2, nrow = 2, top = \"PM2.5 emissions over source types (Baltimore)\")"
   ],
   "outputs": [
    {
     "output_type": "display_data",
     "data": {
      "text/plain": [
       "plot without title"
      ],
      "image/png": "[encoded data removed]"
     },
     "metadata": {}
    }
   ],
   "metadata": {}
  }
 ],
 "metadata": {
  "kernelspec": {
   "display_name": "R",
   "language": "R",
   "name": "python388jvsc74a57bd00b0fbc28e2e75845f31a30441291f555c31d246d558b8e71ae133244d65b0fe5"
  },
  "language_info": {
   "codemirror_mode": "r",
   "file_extension": ".r",
   "mimetype": "text/x-r-source",
   "name": "R",
   "pygments_lexer": "r",
   "version": "3.6.1"
  }
 },
 "nbformat": 4,
 "nbformat_minor": 5
}