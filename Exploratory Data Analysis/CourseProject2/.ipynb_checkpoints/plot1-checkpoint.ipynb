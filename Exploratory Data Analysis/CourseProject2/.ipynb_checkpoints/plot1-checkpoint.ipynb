{
 "cells": [
  {
   "cell_type": "code",
   "execution_count": 1,
   "id": "8536ea62",
   "metadata": {},
   "outputs": [
    {
     "name": "stderr",
     "output_type": "stream",
     "text": [
      "\n",
      "Attaching package: 'dplyr'\n",
      "\n",
      "The following objects are masked from 'package:stats':\n",
      "\n",
      "    filter, lag\n",
      "\n",
      "The following objects are masked from 'package:base':\n",
      "\n",
      "    intersect, setdiff, setequal, union\n",
      "\n"
     ]
    }
   ],
   "source": [
    "#install.packages(\"dplyr\")\n",
    "library(dplyr)"
   ]
  },
  {
   "cell_type": "code",
   "execution_count": null,
   "id": "baaa643b",
   "metadata": {},
   "outputs": [],
   "source": [
    "## 1. Download source data\n",
    "\n",
    "download.file('https://d396qusza40orc.cloudfront.net/exdata%2Fdata%2FNEI_data.zip'\n",
    "              , 'exdata.zip'\n",
    "              , method='curl' )\n",
    "unzip(\"exdata.zip\", files = NULL, exdir=\".\")"
   ]
  },
  {
   "cell_type": "code",
   "execution_count": 2,
   "id": "5e16a145",
   "metadata": {},
   "outputs": [],
   "source": [
    "## 2. Load Data\n",
    "\n",
    "NEI <- readRDS(\"summarySCC_PM25.rds\")"
   ]
  },
  {
   "cell_type": "code",
   "execution_count": 3,
   "id": "6b8f56d1",
   "metadata": {},
   "outputs": [
    {
     "data": {
      "text/plain": [
       "     fips               SCC             Pollutant           Emissions       \n",
       " Length:6497651     Length:6497651     Length:6497651     Min.   :     0.0  \n",
       " Class :character   Class :character   Class :character   1st Qu.:     0.0  \n",
       " Mode  :character   Mode  :character   Mode  :character   Median :     0.0  \n",
       "                                                          Mean   :     3.4  \n",
       "                                                          3rd Qu.:     0.1  \n",
       "                                                          Max.   :646952.0  \n",
       "     type                year     \n",
       " Length:6497651     Min.   :1999  \n",
       " Class :character   1st Qu.:2002  \n",
       " Mode  :character   Median :2005  \n",
       "                    Mean   :2004  \n",
       "                    3rd Qu.:2008  \n",
       "                    Max.   :2008  "
      ]
     },
     "metadata": {},
     "output_type": "display_data"
    }
   ],
   "source": [
    "## 3. Explore data set\n",
    "\n",
    "summary(NEI)\n",
    "#head(NEI)"
   ]
  },
  {
   "cell_type": "code",
   "execution_count": 4,
   "id": "f004f439",
   "metadata": {},
   "outputs": [],
   "source": [
    "## 4. Aggregate data set by year\n",
    "\n",
    "x <- NEI %>% \n",
    "      group_by(year) %>% \n",
    "      summarise(sum = sum(Emissions, na.rm = TRUE),\n",
    "      mean = mean(Emissions, na.rm = TRUE),\n",
    "      median = median(Emissions, na.rm = TRUE),\n",
    "      min = min(Emissions, na.rm = TRUE),\n",
    "      max = max(Emissions, na.rm = TRUE))\n",
    "\n",
    "y1 <- NEI$Emissions[NEI$year == 1999]\n",
    "y2 <- NEI$Emissions[NEI$year == 2002]\n",
    "y3 <- NEI$Emissions[NEI$year == 2005]\n",
    "y4 <- NEI$Emissions[NEI$year == 2008]"
   ]
  },
  {
   "cell_type": "code",
   "execution_count": 12,
   "id": "2627f311",
   "metadata": {},
   "outputs": [
    {
     "name": "stderr",
     "output_type": "stream",
     "text": [
      "Warning message in bplt(at[i], wid = width[i], stats = z$stats[, i], out = z$out[z$group == :\n",
      "\"Outlier (-Inf) in boxplot 1 is not drawn\"Warning message in bplt(at[i], wid = width[i], stats = z$stats[, i], out = z$out[z$group == :\n",
      "\"Outlier (-Inf) in boxplot 2 is not drawn\"Warning message in bplt(at[i], wid = width[i], stats = z$stats[, i], out = z$out[z$group == :\n",
      "\"Outlier (-Inf) in boxplot 3 is not drawn\"Warning message in bplt(at[i], wid = width[i], stats = z$stats[, i], out = z$out[z$group == :\n",
      "\"Outlier (-Inf) in boxplot 4 is not drawn\""
     ]
    },
    {
     "data": {
      "image/png": "[encoded data removed]",
      "text/plain": [
       "plot without title"
      ]
     },
     "metadata": {},
     "output_type": "display_data"
    }
   ],
   "source": [
    "## 5. Plotting\n",
    "\n",
    "#png(file=\"plot1.png\", width = 1280, height = 640, res=120)\n",
    "options(repr.plot.width=10, repr.plot.height=5)\n",
    "par(mfrow=c(1,2))\n",
    "\n",
    "plot(x$year,x$sum/1000000,\n",
    "      xlab=\"Year\",\n",
    "      ylab=\"Total PM2.5 in megatons\",\n",
    "      type=\"l\")\n",
    "boxplot(log10(y1), log10(y2), log10(y3), log10(y4),\n",
    "      names=c(\"1999\",\"2002\",\"2005\",\"2008\"),\n",
    "      xlab=\"Year\",\n",
    "      ylab=\"Log10 of PM2.5\")\n",
    "\n",
    "mtext(\"PM2.5 emissions over years\", side= 3, line=-2, outer = TRUE)\n",
    "#dev.off()"
   ]
  },
  {
   "cell_type": "code",
   "execution_count": null,
   "id": "e5a7e6ee",
   "metadata": {},
   "outputs": [],
   "source": []
  }
 ],
 "metadata": {
  "kernelspec": {
   "display_name": "R",
   "language": "R",
   "name": "ir"
  },
  "language_info": {
   "codemirror_mode": "r",
   "file_extension": ".r",
   "mimetype": "text/x-r-source",
   "name": "R",
   "pygments_lexer": "r",
   "version": "3.6.1"
  }
 },
 "nbformat": 4,
 "nbformat_minor": 5
}
